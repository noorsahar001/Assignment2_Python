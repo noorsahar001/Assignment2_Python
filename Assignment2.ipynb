{
  "nbformat": 4,
  "nbformat_minor": 0,
  "metadata": {
    "colab": {
      "provenance": [],
      "authorship_tag": "ABX9TyO1eBmKT3AXzZuPoa/mto+m",
      "include_colab_link": true
    },
    "kernelspec": {
      "name": "python3",
      "display_name": "Python 3"
    },
    "language_info": {
      "name": "python"
    }
  },
  "cells": [
    {
      "cell_type": "markdown",
      "metadata": {
        "id": "view-in-github",
        "colab_type": "text"
      },
      "source": [
        "<a href=\"https://colab.research.google.com/github/noorsahar001/Assignment2_Python/blob/main/Assignment2.ipynb\" target=\"_parent\"><img src=\"https://colab.research.google.com/assets/colab-badge.svg\" alt=\"Open In Colab\"/></a>"
      ]
    },
    {
      "cell_type": "markdown",
      "source": [
        "#Calculator:"
      ],
      "metadata": {
        "id": "9YXopRLnDsri"
      }
    },
    {
      "cell_type": "code",
      "execution_count": null,
      "metadata": {
        "colab": {
          "base_uri": "https://localhost:8080/"
        },
        "id": "ksRiDnWrCpuR",
        "outputId": "5037b095-5d6b-423c-e393-17b229812010"
      },
      "outputs": [
        {
          "output_type": "stream",
          "name": "stdout",
          "text": [
            "Enter the first number: 62\n",
            "Choose an operator (+, -, *, /,): +\n",
            "Enter the second number: 42\n",
            "Result: 104\n"
          ]
        }
      ],
      "source": [
        "#Taking input from the user\n",
        "num1 = float(input(\"Enter the first number: \"))\n",
        "operator = input(\"Choose an operator (+, -, *, /,): \")\n",
        "num2 = float(input(\"Enter the second number: \"))\n",
        "\n",
        "#Performing calculation\n",
        "if operator =='+':\n",
        "  result = num1 + num2\n",
        "elif operator =='-':\n",
        "  result = num1 - num2\n",
        "elif operator =='*':\n",
        "  result = num1 * num2\n",
        "elif operator =='/':\n",
        "  if num2 != 0:\n",
        "    result = num1 / num2\n",
        "  else:\n",
        "    result = \"Error! Division by zero is not allowed.\"\n",
        "else:\n",
        "  result = \"Invalid operator!\"\n",
        "\n",
        "if isinstance(result, float) and result.is_integer():\n",
        "    result = int(result)\n",
        "\n",
        "print(\"Result:\", result)"
      ]
    },
    {
      "cell_type": "markdown",
      "source": [
        "#Grading System:"
      ],
      "metadata": {
        "id": "4pc0fUibLcWt"
      }
    },
    {
      "cell_type": "code",
      "source": [
        "#Taking user input for marks\n",
        "marks = float(input(\"Enter your marks: \"))\n",
        "\n",
        "#Assigning grades based on marks\n",
        "if marks >= 90:\n",
        " grade = \"A+\"\n",
        " remark = \"Excellent! Keep up the great work!\"\n",
        "elif marks >= 80:\n",
        "  grade = \"A\"\n",
        "  remark = \"Very Good! You are doing great!\"\n",
        "elif marks >= 70:\n",
        "  grade = \"B\"\n",
        "  remarks = \"Good! Try to improve further.\"\n",
        "elif marks >= 60:\n",
        "  grade = \"C\"\n",
        "  remark = \"Satisfactory! Work harder next time.\"\n",
        "elif marks >= 50:\n",
        "  grade = \"D\"\n",
        "  remark = \"Passing! But you need to improve.\"\n",
        "else:\n",
        "  grade = \"F\"\n",
        "  remark = \"Fail! Don't give up, keep trying!\"\n",
        "\n",
        "print(\"Your grade is:\", grade)\n",
        "print(\"Remarks:\", remark)"
      ],
      "metadata": {
        "colab": {
          "base_uri": "https://localhost:8080/"
        },
        "id": "JOTIOztlM2b9",
        "outputId": "1c2c9131-68ae-424a-d83e-b88465af48bd"
      },
      "execution_count": null,
      "outputs": [
        {
          "output_type": "stream",
          "name": "stdout",
          "text": [
            "Enter your marks: 82\n",
            "Your grade is: A\n",
            "Remarks: Very Good! You are doing great!\n"
          ]
        }
      ]
    }
  ]
}